{
 "cells": [
  {
   "cell_type": "code",
   "execution_count": 27,
   "metadata": {},
   "outputs": [
    {
     "name": "stderr",
     "output_type": "stream",
     "text": [
      "Some weights of VisionEncoderDecoderModel were not initialized from the model checkpoint at microsoft/trocr-large-stage1 and are newly initialized: ['encoder.pooler.dense.bias', 'encoder.pooler.dense.weight']\n",
      "You should probably TRAIN this model on a down-stream task to be able to use it for predictions and inference.\n"
     ]
    },
    {
     "name": "stdout",
     "output_type": "stream",
     "text": [
      "Extracted mathematical expression: -6\n",
      "Result of the operation: -6\n"
     ]
    }
   ],
   "source": [
    "import cv2\n",
    "import torch\n",
    "from transformers import TrOCRProcessor, VisionEncoderDecoderModel\n",
    "from PIL import Image\n",
    "import re\n",
    "\n",
    "# Load the pre-trained TrOCR model and processor\n",
    "processor = TrOCRProcessor.from_pretrained(\"microsoft/trocr-large-stage1\")\n",
    "model = VisionEncoderDecoderModel.from_pretrained(\"microsoft/trocr-large-stage1\")\n",
    "\n",
    "device = torch.device(\"cuda\" if torch.cuda.is_available() else \"cpu\")\n",
    "model.to(device)\n",
    "\n",
    "def preprocess_image(image):\n",
    "    gray = cv2.cvtColor(image, cv2.COLOR_BGR2GRAY)\n",
    "    thresh = cv2.threshold(gray, 0, 255, cv2.THRESH_BINARY_INV + cv2.THRESH_OTSU)[1]\n",
    "    return thresh\n",
    "\n",
    "def extract_math_expression(image):\n",
    "    pil_image = Image.fromarray(cv2.cvtColor(image, cv2.COLOR_BGR2RGB))\n",
    "    pixel_values = processor(images=pil_image, return_tensors=\"pt\").pixel_values.to(device)\n",
    "    generated_ids = model.generate(pixel_values)\n",
    "    generated_text = processor.batch_decode(generated_ids, skip_special_tokens=True)[0]\n",
    "    return generated_text\n",
    "\n",
    "def parse_and_evaluate_expression(text):\n",
    "    # Replace 'x' with '*' for multiplication and ':' with '/' for division\n",
    "    text = text.replace('x', '*').replace(':', '/')\n",
    "    # Remove any spaces\n",
    "    text = text.replace(' ', '')\n",
    "    \n",
    "    # Use regex to extract numbers and operators\n",
    "    elements = re.findall(r'\\d+|\\+|\\-|\\*|/', text)\n",
    "    \n",
    "    # Reconstruct the expression\n",
    "    expression = ''.join(elements)\n",
    "    \n",
    "    try:\n",
    "        # Evaluate the expression\n",
    "        result = eval(expression)\n",
    "        return expression, result\n",
    "    except:\n",
    "        return expression, \"Error: Unable to evaluate expression\"\n",
    "\n",
    "# Load an image\n",
    "image_path = 'C:/Users/joana/OneDrive/Desktop/HSLU/3rd_semester/CV/c_vision_ocr/data/img_eight.png'  # Replace with the actual path\n",
    "image = cv2.imread(image_path)\n",
    "\n",
    "if image is None:\n",
    "    raise ValueError(\"Image not found or could not be loaded\")\n",
    "\n",
    "preprocessed_image = preprocess_image(image)\n",
    "extracted_text = extract_math_expression(preprocessed_image)\n",
    "expression, result = parse_and_evaluate_expression(extracted_text)\n",
    "\n",
    "print(\"Extracted mathematical expression:\", expression)\n",
    "print(\"Result of the operation:\", result)\n",
    "\n",
    "# Display the original image\n",
    "cv2.imshow('Original Image', image)\n",
    "cv2.waitKey(0)\n",
    "cv2.destroyAllWindows()"
   ]
  },
  {
   "cell_type": "code",
   "execution_count": null,
   "metadata": {},
   "outputs": [],
   "source": []
  },
  {
   "cell_type": "code",
   "execution_count": null,
   "metadata": {},
   "outputs": [],
   "source": []
  },
  {
   "cell_type": "code",
   "execution_count": 1,
   "metadata": {},
   "outputs": [],
   "source": [
    "import pandas as pd"
   ]
  },
  {
   "cell_type": "code",
   "execution_count": 6,
   "metadata": {},
   "outputs": [],
   "source": [
    "df = pd.read_csv(\"C:/Users/joana/OneDrive/Desktop/HSLU/3rd_semester/CV/c_vision_ocr/streamlit_app/error_reports.csv\")"
   ]
  },
  {
   "cell_type": "code",
   "execution_count": 7,
   "metadata": {},
   "outputs": [
    {
     "data": {
      "text/html": [
       "<div>\n",
       "<style scoped>\n",
       "    .dataframe tbody tr th:only-of-type {\n",
       "        vertical-align: middle;\n",
       "    }\n",
       "\n",
       "    .dataframe tbody tr th {\n",
       "        vertical-align: top;\n",
       "    }\n",
       "\n",
       "    .dataframe thead th {\n",
       "        text-align: right;\n",
       "    }\n",
       "</style>\n",
       "<table border=\"1\" class=\"dataframe\">\n",
       "  <thead>\n",
       "    <tr style=\"text-align: right;\">\n",
       "      <th></th>\n",
       "      <th>timestamp</th>\n",
       "      <th>model_text</th>\n",
       "      <th>corrected_text</th>\n",
       "      <th>image</th>\n",
       "    </tr>\n",
       "  </thead>\n",
       "  <tbody>\n",
       "    <tr>\n",
       "      <th>0</th>\n",
       "      <td>2024-10-20 21:24:51.204549</td>\n",
       "      <td>452 x9</td>\n",
       "      <td>452x9</td>\n",
       "      <td>b'\\x89PNG\\r\\n\\x1a\\n\\x00\\x00\\x00\\rIHDR\\x00\\x00\\...</td>\n",
       "    </tr>\n",
       "    <tr>\n",
       "      <th>1</th>\n",
       "      <td>2024-10-20 21:36:43.717364</td>\n",
       "      <td>26 2 + 513</td>\n",
       "      <td>262+513</td>\n",
       "      <td>b'\\x89PNG\\r\\n\\x1a\\n\\x00\\x00\\x00\\rIHDR\\x00\\x00\\...</td>\n",
       "    </tr>\n",
       "    <tr>\n",
       "      <th>2</th>\n",
       "      <td>2024-10-20 22:01:20.734758</td>\n",
       "      <td>26 2 + 513</td>\n",
       "      <td>262 + 513</td>\n",
       "      <td>b'\\x89PNG\\r\\n\\x1a\\n\\x00\\x00\\x00\\rIHDR\\x00\\x00\\...</td>\n",
       "    </tr>\n",
       "    <tr>\n",
       "      <th>3</th>\n",
       "      <td>2024-10-20 22:12:56.029239</td>\n",
       "      <td>26 2 + 513</td>\n",
       "      <td>262+513</td>\n",
       "      <td>b'\\x89PNG\\r\\n\\x1a\\n\\x00\\x00\\x00\\rIHDR\\x00\\x00\\...</td>\n",
       "    </tr>\n",
       "    <tr>\n",
       "      <th>4</th>\n",
       "      <td>2024-10-22 23:03:14.442394</td>\n",
       "      <td>45 x + 2</td>\n",
       "      <td>45 x 72</td>\n",
       "      <td>b'\\x89PNG\\r\\n\\x1a\\n\\x00\\x00\\x00\\rIHDR\\x00\\x00\\...</td>\n",
       "    </tr>\n",
       "    <tr>\n",
       "      <th>5</th>\n",
       "      <td>2024-10-23 20:53:51.957843</td>\n",
       "      <td>4 70 / 12</td>\n",
       "      <td>470 / 72</td>\n",
       "      <td>b'\\x89PNG\\r\\n\\x1a\\n\\x00\\x00\\x00\\rIHDR\\x00\\x00\\...</td>\n",
       "    </tr>\n",
       "    <tr>\n",
       "      <th>6</th>\n",
       "      <td>2024-10-25 15:18:36.302595</td>\n",
       "      <td>( 3 x 6 ) x ( 14 - 8 ) + 3</td>\n",
       "      <td>( 3 x 6 ) x ( 14 - 8 ) + 3</td>\n",
       "      <td>b'\\x89PNG\\r\\n\\x1a\\n\\x00\\x00\\x00\\rIHDR\\x00\\x00\\...</td>\n",
       "    </tr>\n",
       "  </tbody>\n",
       "</table>\n",
       "</div>"
      ],
      "text/plain": [
       "                    timestamp                  model_text  \\\n",
       "0  2024-10-20 21:24:51.204549                      452 x9   \n",
       "1  2024-10-20 21:36:43.717364                  26 2 + 513   \n",
       "2  2024-10-20 22:01:20.734758                  26 2 + 513   \n",
       "3  2024-10-20 22:12:56.029239                  26 2 + 513   \n",
       "4  2024-10-22 23:03:14.442394                    45 x + 2   \n",
       "5  2024-10-23 20:53:51.957843                   4 70 / 12   \n",
       "6  2024-10-25 15:18:36.302595  ( 3 x 6 ) x ( 14 - 8 ) + 3   \n",
       "\n",
       "               corrected_text  \\\n",
       "0                       452x9   \n",
       "1                     262+513   \n",
       "2                   262 + 513   \n",
       "3                     262+513   \n",
       "4                     45 x 72   \n",
       "5                    470 / 72   \n",
       "6  ( 3 x 6 ) x ( 14 - 8 ) + 3   \n",
       "\n",
       "                                               image  \n",
       "0  b'\\x89PNG\\r\\n\\x1a\\n\\x00\\x00\\x00\\rIHDR\\x00\\x00\\...  \n",
       "1  b'\\x89PNG\\r\\n\\x1a\\n\\x00\\x00\\x00\\rIHDR\\x00\\x00\\...  \n",
       "2  b'\\x89PNG\\r\\n\\x1a\\n\\x00\\x00\\x00\\rIHDR\\x00\\x00\\...  \n",
       "3  b'\\x89PNG\\r\\n\\x1a\\n\\x00\\x00\\x00\\rIHDR\\x00\\x00\\...  \n",
       "4  b'\\x89PNG\\r\\n\\x1a\\n\\x00\\x00\\x00\\rIHDR\\x00\\x00\\...  \n",
       "5  b'\\x89PNG\\r\\n\\x1a\\n\\x00\\x00\\x00\\rIHDR\\x00\\x00\\...  \n",
       "6  b'\\x89PNG\\r\\n\\x1a\\n\\x00\\x00\\x00\\rIHDR\\x00\\x00\\...  "
      ]
     },
     "execution_count": 7,
     "metadata": {},
     "output_type": "execute_result"
    }
   ],
   "source": [
    "df"
   ]
  },
  {
   "cell_type": "code",
   "execution_count": 17,
   "metadata": {},
   "outputs": [
    {
     "name": "stdout",
     "output_type": "stream",
     "text": [
      "Index(['timestamp', 'model_text', 'corrected_text', 'image'], dtype='object')\n"
     ]
    }
   ],
   "source": [
    "print(df.columns)"
   ]
  },
  {
   "cell_type": "code",
   "execution_count": 19,
   "metadata": {},
   "outputs": [],
   "source": [
    "df[\"timestamp\"] = df[\"timestamp\"].apply(lambda x: x.split('.')[0])"
   ]
  },
  {
   "cell_type": "code",
   "execution_count": 20,
   "metadata": {},
   "outputs": [
    {
     "data": {
      "text/html": [
       "<div>\n",
       "<style scoped>\n",
       "    .dataframe tbody tr th:only-of-type {\n",
       "        vertical-align: middle;\n",
       "    }\n",
       "\n",
       "    .dataframe tbody tr th {\n",
       "        vertical-align: top;\n",
       "    }\n",
       "\n",
       "    .dataframe thead th {\n",
       "        text-align: right;\n",
       "    }\n",
       "</style>\n",
       "<table border=\"1\" class=\"dataframe\">\n",
       "  <thead>\n",
       "    <tr style=\"text-align: right;\">\n",
       "      <th></th>\n",
       "      <th>timestamp</th>\n",
       "      <th>model_text</th>\n",
       "      <th>corrected_text</th>\n",
       "      <th>image</th>\n",
       "    </tr>\n",
       "  </thead>\n",
       "  <tbody>\n",
       "    <tr>\n",
       "      <th>0</th>\n",
       "      <td>2024-10-20 21:24:51</td>\n",
       "      <td>452 x9</td>\n",
       "      <td>452x9</td>\n",
       "      <td>b'\\x89PNG\\r\\n\\x1a\\n\\x00\\x00\\x00\\rIHDR\\x00\\x00\\...</td>\n",
       "    </tr>\n",
       "    <tr>\n",
       "      <th>1</th>\n",
       "      <td>2024-10-20 21:36:43</td>\n",
       "      <td>26 2 + 513</td>\n",
       "      <td>262+513</td>\n",
       "      <td>b'\\x89PNG\\r\\n\\x1a\\n\\x00\\x00\\x00\\rIHDR\\x00\\x00\\...</td>\n",
       "    </tr>\n",
       "    <tr>\n",
       "      <th>2</th>\n",
       "      <td>2024-10-20 22:01:20</td>\n",
       "      <td>26 2 + 513</td>\n",
       "      <td>262 + 513</td>\n",
       "      <td>b'\\x89PNG\\r\\n\\x1a\\n\\x00\\x00\\x00\\rIHDR\\x00\\x00\\...</td>\n",
       "    </tr>\n",
       "    <tr>\n",
       "      <th>3</th>\n",
       "      <td>2024-10-20 22:12:56</td>\n",
       "      <td>26 2 + 513</td>\n",
       "      <td>262+513</td>\n",
       "      <td>b'\\x89PNG\\r\\n\\x1a\\n\\x00\\x00\\x00\\rIHDR\\x00\\x00\\...</td>\n",
       "    </tr>\n",
       "    <tr>\n",
       "      <th>4</th>\n",
       "      <td>2024-10-22 23:03:14</td>\n",
       "      <td>45 x + 2</td>\n",
       "      <td>45 x 72</td>\n",
       "      <td>b'\\x89PNG\\r\\n\\x1a\\n\\x00\\x00\\x00\\rIHDR\\x00\\x00\\...</td>\n",
       "    </tr>\n",
       "  </tbody>\n",
       "</table>\n",
       "</div>"
      ],
      "text/plain": [
       "             timestamp  model_text corrected_text  \\\n",
       "0  2024-10-20 21:24:51      452 x9          452x9   \n",
       "1  2024-10-20 21:36:43  26 2 + 513        262+513   \n",
       "2  2024-10-20 22:01:20  26 2 + 513      262 + 513   \n",
       "3  2024-10-20 22:12:56  26 2 + 513        262+513   \n",
       "4  2024-10-22 23:03:14    45 x + 2        45 x 72   \n",
       "\n",
       "                                               image  \n",
       "0  b'\\x89PNG\\r\\n\\x1a\\n\\x00\\x00\\x00\\rIHDR\\x00\\x00\\...  \n",
       "1  b'\\x89PNG\\r\\n\\x1a\\n\\x00\\x00\\x00\\rIHDR\\x00\\x00\\...  \n",
       "2  b'\\x89PNG\\r\\n\\x1a\\n\\x00\\x00\\x00\\rIHDR\\x00\\x00\\...  \n",
       "3  b'\\x89PNG\\r\\n\\x1a\\n\\x00\\x00\\x00\\rIHDR\\x00\\x00\\...  \n",
       "4  b'\\x89PNG\\r\\n\\x1a\\n\\x00\\x00\\x00\\rIHDR\\x00\\x00\\...  "
      ]
     },
     "execution_count": 20,
     "metadata": {},
     "output_type": "execute_result"
    }
   ],
   "source": [
    "df"
   ]
  },
  {
   "cell_type": "code",
   "execution_count": 21,
   "metadata": {},
   "outputs": [],
   "source": [
    "df.to_csv(\"error_rep.csv\")"
   ]
  },
  {
   "cell_type": "code",
   "execution_count": 24,
   "metadata": {},
   "outputs": [
    {
     "data": {
      "text/html": [
       "<div>\n",
       "<style scoped>\n",
       "    .dataframe tbody tr th:only-of-type {\n",
       "        vertical-align: middle;\n",
       "    }\n",
       "\n",
       "    .dataframe tbody tr th {\n",
       "        vertical-align: top;\n",
       "    }\n",
       "\n",
       "    .dataframe thead th {\n",
       "        text-align: right;\n",
       "    }\n",
       "</style>\n",
       "<table border=\"1\" class=\"dataframe\">\n",
       "  <thead>\n",
       "    <tr style=\"text-align: right;\">\n",
       "      <th></th>\n",
       "      <th>timestamp</th>\n",
       "      <th>model_text</th>\n",
       "      <th>corrected_text</th>\n",
       "      <th>image</th>\n",
       "    </tr>\n",
       "  </thead>\n",
       "  <tbody>\n",
       "    <tr>\n",
       "      <th>0</th>\n",
       "      <td>2024-10-20 21:24:51</td>\n",
       "      <td>452 x9</td>\n",
       "      <td>452x9</td>\n",
       "      <td>b'\\x89PNG\\r\\n\\x1a\\n\\x00\\x00\\x00\\rIHDR\\x00\\x00\\...</td>\n",
       "    </tr>\n",
       "    <tr>\n",
       "      <th>1</th>\n",
       "      <td>2024-10-20 21:36:43</td>\n",
       "      <td>26 2 + 513</td>\n",
       "      <td>262+513</td>\n",
       "      <td>b'\\x89PNG\\r\\n\\x1a\\n\\x00\\x00\\x00\\rIHDR\\x00\\x00\\...</td>\n",
       "    </tr>\n",
       "    <tr>\n",
       "      <th>2</th>\n",
       "      <td>2024-10-20 22:01:20</td>\n",
       "      <td>26 2 + 513</td>\n",
       "      <td>262 + 513</td>\n",
       "      <td>b'\\x89PNG\\r\\n\\x1a\\n\\x00\\x00\\x00\\rIHDR\\x00\\x00\\...</td>\n",
       "    </tr>\n",
       "    <tr>\n",
       "      <th>3</th>\n",
       "      <td>2024-10-20 22:12:56</td>\n",
       "      <td>26 2 + 513</td>\n",
       "      <td>262+513</td>\n",
       "      <td>b'\\x89PNG\\r\\n\\x1a\\n\\x00\\x00\\x00\\rIHDR\\x00\\x00\\...</td>\n",
       "    </tr>\n",
       "    <tr>\n",
       "      <th>4</th>\n",
       "      <td>2024-10-22 23:03:14</td>\n",
       "      <td>45 x + 2</td>\n",
       "      <td>45 x 72</td>\n",
       "      <td>b'\\x89PNG\\r\\n\\x1a\\n\\x00\\x00\\x00\\rIHDR\\x00\\x00\\...</td>\n",
       "    </tr>\n",
       "  </tbody>\n",
       "</table>\n",
       "</div>"
      ],
      "text/plain": [
       "             timestamp  model_text corrected_text  \\\n",
       "0  2024-10-20 21:24:51      452 x9          452x9   \n",
       "1  2024-10-20 21:36:43  26 2 + 513        262+513   \n",
       "2  2024-10-20 22:01:20  26 2 + 513      262 + 513   \n",
       "3  2024-10-20 22:12:56  26 2 + 513        262+513   \n",
       "4  2024-10-22 23:03:14    45 x + 2        45 x 72   \n",
       "\n",
       "                                               image  \n",
       "0  b'\\x89PNG\\r\\n\\x1a\\n\\x00\\x00\\x00\\rIHDR\\x00\\x00\\...  \n",
       "1  b'\\x89PNG\\r\\n\\x1a\\n\\x00\\x00\\x00\\rIHDR\\x00\\x00\\...  \n",
       "2  b'\\x89PNG\\r\\n\\x1a\\n\\x00\\x00\\x00\\rIHDR\\x00\\x00\\...  \n",
       "3  b'\\x89PNG\\r\\n\\x1a\\n\\x00\\x00\\x00\\rIHDR\\x00\\x00\\...  \n",
       "4  b'\\x89PNG\\r\\n\\x1a\\n\\x00\\x00\\x00\\rIHDR\\x00\\x00\\...  "
      ]
     },
     "execution_count": 24,
     "metadata": {},
     "output_type": "execute_result"
    }
   ],
   "source": [
    "df"
   ]
  },
  {
   "cell_type": "code",
   "execution_count": 46,
   "metadata": {},
   "outputs": [
    {
     "name": "stdout",
     "output_type": "stream",
     "text": [
      "Error decoding image: cannot identify image file <_io.BytesIO object at 0x0000017C5D2E1A30>\n",
      "Failed to display image\n"
     ]
    }
   ],
   "source": [
    "import base64\n",
    "from io import BytesIO\n",
    "from PIL import Image, UnidentifiedImageError\n",
    "import matplotlib.pyplot as plt\n",
    "\n"
   ]
  },
  {
   "cell_type": "code",
   "execution_count": 48,
   "metadata": {},
   "outputs": [
    {
     "data": {
      "image/png": "[encoded data removed]",
      "text/plain": [
       "<Figure size 640x480 with 1 Axes>"
      ]
     },
     "metadata": {},
     "output_type": "display_data"
    },
    {
     "name": "stdout",
     "output_type": "stream",
     "text": [
      "Model text: 452 x9\n",
      "Corrected text: 452x9\n"
     ]
    }
   ],
   "source": [
    "import io\n",
    "\n",
    "\n",
    "def read_image_from_csv(row):\n",
    "    try:\n",
    "        # Read the image data as bytes\n",
    "        img_bytes = row['image']\n",
    "        \n",
    "        # Convert bytes to image\n",
    "        img = Image.open(io.BytesIO(img_bytes))\n",
    "        \n",
    "        return img\n",
    "    except Exception as e:\n",
    "        print(f\"Error reading image: {e}\")\n",
    "        return None\n",
    "\n",
    "# Read the CSV file\n",
    "df = pd.read_csv('C:/Users/joana/OneDrive/Desktop/HSLU/3rd_semester/CV/c_vision_ocr/streamlit_app/error_reports.csv', index_col=0)\n",
    "\n",
    "# Convert the 'image' column from string to bytes\n",
    "df['image'] = df['image'].apply(lambda x: eval(x))\n",
    "\n",
    "# Display the image for a specific row (e.g., row 3)\n",
    "img = read_image_from_csv(df.iloc[0])\n",
    "\n",
    "if img is not None:\n",
    "    plt.imshow(img)\n",
    "    plt.title(f\"Label: {df.iloc[0]['corrected_text']}\")\n",
    "    plt.axis('off')\n",
    "    plt.show()\n",
    "else:\n",
    "    print(\"Failed to display image\")\n",
    "\n",
    "# Print other information\n",
    "print(f\"Model text: {df.iloc[0]['model_text']}\")\n",
    "print(f\"Corrected text: {df.iloc[0]['corrected_text']}\")"
   ]
  },
  {
   "cell_type": "code",
   "execution_count": 40,
   "metadata": {},
   "outputs": [],
   "source": [
    "import ast\n",
    "\n",
    "df = pd.read_csv('C:/Users/joana/OneDrive/Desktop/HSLU/3rd_semester/CV/c_vision_ocr/streamlit_app/error_reports.csv', index_col=0)\n",
    "df['image'] = df['image'].apply(ast.literal_eval)"
   ]
  },
  {
   "cell_type": "code",
   "execution_count": 41,
   "metadata": {},
   "outputs": [],
   "source": [
    "with open('test_image.png', 'wb') as f:\n",
    "    f.write(df.iloc[3]['image'])"
   ]
  },
  {
   "cell_type": "code",
   "execution_count": null,
   "metadata": {},
   "outputs": [],
   "source": []
  },
  {
   "cell_type": "code",
   "execution_count": 32,
   "metadata": {},
   "outputs": [
    {
     "name": "stderr",
     "output_type": "stream",
     "text": [
      "c:\\Users\\joana\\.conda\\envs\\cv_proj\\Lib\\site-packages\\transformers\\tokenization_utils_base.py:1601: FutureWarning: `clean_up_tokenization_spaces` was not set. It will be set to `True` by default. This behavior will be depracted in transformers v4.45, and will be then set to `False` by default. For more details check this issue: https://github.com/huggingface/transformers/issues/31884\n",
      "  warnings.warn(\n",
      "Some weights of VisionEncoderDecoderModel were not initialized from the model checkpoint at microsoft/trocr-large-stage1 and are newly initialized: ['encoder.pooler.dense.bias', 'encoder.pooler.dense.weight']\n",
      "You should probably TRAIN this model on a down-stream task to be able to use it for predictions and inference.\n"
     ]
    }
   ],
   "source": [
    "from transformers import TrOCRProcessor, VisionEncoderDecoderModel\n",
    "\n",
    "# Load the processor and model from the Hugging Face hub\n",
    "processor = TrOCRProcessor.from_pretrained(\"microsoft/trocr-large-stage1\")\n",
    "model = VisionEncoderDecoderModel.from_pretrained(\"microsoft/trocr-large-stage1\")"
   ]
  },
  {
   "cell_type": "code",
   "execution_count": 33,
   "metadata": {},
   "outputs": [],
   "source": [
    "# Specify the directory where you want to save the model and processor\n",
    "save_directory = \"./trocr-large-stage1-local\"\n",
    "\n",
    "# Save the processor and model to the specified directory\n",
    "processor.save_pretrained(save_directory)\n",
    "model.save_pretrained(save_directory)"
   ]
  }
 ],
 "metadata": {
  "kernelspec": {
   "display_name": "cv_proj",
   "language": "python",
   "name": "python3"
  },
  "language_info": {
   "codemirror_mode": {
    "name": "ipython",
    "version": 3
   },
   "file_extension": ".py",
   "mimetype": "text/x-python",
   "name": "python",
   "nbconvert_exporter": "python",
   "pygments_lexer": "ipython3",
   "version": "3.12.5"
  }
 },
 "nbformat": 4,
 "nbformat_minor": 2
}
