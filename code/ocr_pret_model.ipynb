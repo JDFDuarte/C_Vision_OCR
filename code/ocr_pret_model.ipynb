{
 "cells": [
  {
   "cell_type": "code",
   "execution_count": 1,
   "metadata": {},
   "outputs": [
    {
     "name": "stderr",
     "output_type": "stream",
     "text": [
      "c:\\Users\\joana\\.conda\\envs\\cv_proj\\Lib\\site-packages\\transformers\\tokenization_utils_base.py:1601: FutureWarning: `clean_up_tokenization_spaces` was not set. It will be set to `True` by default. This behavior will be depracted in transformers v4.45, and will be then set to `False` by default. For more details check this issue: https://github.com/huggingface/transformers/issues/31884\n",
      "  warnings.warn(\n",
      "Some weights of VisionEncoderDecoderModel were not initialized from the model checkpoint at microsoft/trocr-large-stage1 and are newly initialized: ['encoder.pooler.dense.bias', 'encoder.pooler.dense.weight']\n",
      "You should probably TRAIN this model on a down-stream task to be able to use it for predictions and inference.\n"
     ]
    }
   ],
   "source": [
    "from transformers import TrOCRProcessor, VisionEncoderDecoderModel\n",
    "from PIL import Image\n",
    "import requests\n",
    "import re\n",
    "\n",
    "# Load the pre-trained TrOCR model and processor\n",
    "processor = TrOCRProcessor.from_pretrained(\"microsoft/trocr-large-stage1\")\n",
    "model = VisionEncoderDecoderModel.from_pretrained(\"microsoft/trocr-large-stage1\")\n",
    "\n",
    "# Function to load and preprocess the image\n",
    "def load_image(image_path):\n",
    "    image = Image.open(image_path).convert(\"RGB\")\n",
    "    return image\n",
    "\n",
    "# Function to predict text from image\n",
    "def predict_text_from_image(image):\n",
    "    pixel_values = processor(image, return_tensors=\"pt\").pixel_values\n",
    "    generated_ids = model.generate(pixel_values)\n",
    "    generated_text = processor.batch_decode(generated_ids, skip_special_tokens=True)[0]\n",
    "    generated_text = generated_text.replace(' ', '').replace('x', '*')\n",
    "    return generated_text\n",
    "\n",
    "\n",
    "\n"
   ]
  },
  {
   "cell_type": "code",
   "execution_count": 2,
   "metadata": {},
   "outputs": [],
   "source": [
    "# Function to evaluate the equation\n",
    "import re\n",
    "\n",
    "def evaluate_equation(equation):\n",
    "    # Check if the equation is valid\n",
    "    if not re.match(r'^-?\\d+(\\.\\d+)?([+\\-*/]-?\\d+(\\.\\d+)?)*$', equation):\n",
    "        return \"Invalid Equation\"\n",
    "    \n",
    "    # Use eval() to calculate the result\n",
    "    try:\n",
    "        result = eval(equation)\n",
    "        return result\n",
    "    except (SyntaxError, ZeroDivisionError):\n",
    "        return \"Invalid Equation\""
   ]
  },
  {
   "cell_type": "code",
   "execution_count": 3,
   "metadata": {},
   "outputs": [
    {
     "name": "stderr",
     "output_type": "stream",
     "text": [
      "c:\\Users\\joana\\.conda\\envs\\cv_proj\\Lib\\site-packages\\transformers\\generation\\utils.py:1258: UserWarning: Using the model-agnostic default `max_length` (=20) to control the generation length. We recommend setting `max_new_tokens` to control the maximum length of the generation.\n",
      "  warnings.warn(\n"
     ]
    },
    {
     "name": "stdout",
     "output_type": "stream",
     "text": [
      "Predicted Text: 262+513\n",
      "Result of the equation: 775\n"
     ]
    }
   ],
   "source": [
    "# Test with an example image\n",
    "image_path = \"C:/Users/joana/OneDrive/Desktop/HSLU/3rd_semester/CV/c_vision_ocr/data/img_six.png\"  \n",
    "image = load_image(image_path)\n",
    "predicted_text = predict_text_from_image(image)\n",
    "print(\"Predicted Text:\", predicted_text)\n",
    "\n",
    "# Evaluate the predicted equation\n",
    "result = evaluate_equation(predicted_text)\n",
    "print(\"Result of the equation:\", result)"
   ]
  },
  {
   "cell_type": "code",
   "execution_count": null,
   "metadata": {},
   "outputs": [],
   "source": []
  },
  {
   "cell_type": "code",
   "execution_count": null,
   "metadata": {},
   "outputs": [],
   "source": []
  },
  {
   "cell_type": "code",
   "execution_count": null,
   "metadata": {},
   "outputs": [],
   "source": []
  }
 ],
 "metadata": {
  "kernelspec": {
   "display_name": "cv_proj",
   "language": "python",
   "name": "python3"
  },
  "language_info": {
   "codemirror_mode": {
    "name": "ipython",
    "version": 3
   },
   "file_extension": ".py",
   "mimetype": "text/x-python",
   "name": "python",
   "nbconvert_exporter": "python",
   "pygments_lexer": "ipython3",
   "version": "3.12.5"
  }
 },
 "nbformat": 4,
 "nbformat_minor": 2
}
